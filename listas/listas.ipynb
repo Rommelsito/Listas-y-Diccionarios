{
 "cells": [
  {
   "cell_type": "code",
   "execution_count": 1,
   "metadata": {},
   "outputs": [
    {
     "name": "stdout",
     "output_type": "stream",
     "text": [
      "['Rommel', 'Papas', 'Patatas']\n",
      "['Rommel', 2, 3.15, True]\n"
     ]
    }
   ],
   "source": [
    "# Listas homogeneas son aquellas cuyos datos son de la misma naturaleza\n",
    "# Listas heterogeneas son aquellas cuyos datos en la lista son de diferentes naturaleza\n",
    "\n",
    "lista_homogenea = [\"Rommel\", \"Papas\",\"Patatas\"]\n",
    "print(lista_homogenea)\n",
    "\n",
    "lista_heterogenea = [\"Rommel\", 2, 3.15, True]\n",
    "print(lista_heterogenea)"
   ]
  },
  {
   "cell_type": "code",
   "execution_count": null,
   "metadata": {},
   "outputs": [],
   "source": [
    "# Podemos crear variables que sirvan de datos personales, ejemplo:\n",
    "\"\"\"\n",
    "nombre = \"Rommel\"\n",
    "edad = 20\n",
    "estatura = 1.70\n",
    "es_estudiante = True\n",
    "\"\"\"\n",
    "#Pero con listas podemos simplificar esto, ejemplo:\n",
    "\n",
    "datos_personales = [\"Rommel\", 20, 1.70, True]"
   ]
  },
  {
   "cell_type": "code",
   "execution_count": 1,
   "metadata": {},
   "outputs": [
    {
     "name": "stdout",
     "output_type": "stream",
     "text": [
      "Lista vacia\n",
      "[]\n"
     ]
    }
   ],
   "source": [
    "print(\"Lista vacia\")\n",
    "\n",
    "lista_vacia = []\n",
    "print(lista_vacia)"
   ]
  },
  {
   "cell_type": "code",
   "execution_count": 3,
   "metadata": {},
   "outputs": [
    {
     "name": "stdout",
     "output_type": "stream",
     "text": [
      "list of number: \n",
      "[1, 2, 3, 4, 5, 6]\n"
     ]
    }
   ],
   "source": [
    "print(\"list of number: \")\n",
    "list = [1,2,3,4,5,6]\n",
    "print(list)"
   ]
  },
  {
   "cell_type": "code",
   "execution_count": 22,
   "metadata": {},
   "outputs": [
    {
     "name": "stdout",
     "output_type": "stream",
     "text": [
      "List of mounth: \n",
      "['Enero', 'Febrero', 'Marzo', 'Mayo', 'Junio', 'Julio']\n"
     ]
    }
   ],
   "source": [
    "list = [\"Enero\",\"Febrero\",\"Marzo\",\"Mayo\",\"Junio\",\"Julio\"]\n",
    "print(\"List of mounth: \")\n",
    "print(list)\n"
   ]
  },
  {
   "cell_type": "code",
   "execution_count": 25,
   "metadata": {},
   "outputs": [
    {
     "name": "stdout",
     "output_type": "stream",
     "text": [
      "Perro\n",
      "Zorro\n"
     ]
    }
   ],
   "source": [
    "#Accesing of elements in list\n",
    "list = [\"Perro\", \"Gato\", \"Nutria\", \"Zorro\", \"Oso\"]\n",
    "print(list[0])\n",
    "print(list[3])"
   ]
  },
  {
   "cell_type": "code",
   "execution_count": 26,
   "metadata": {},
   "outputs": [
    {
     "name": "stdout",
     "output_type": "stream",
     "text": [
      "6\n"
     ]
    }
   ],
   "source": [
    "#getting the size of a list\n",
    "\n",
    "list = [\"Enero\",\"Febrero\",\"Marzo\",\"Mayo\",\"Junio\",\"Julio\"]\n",
    "print(len(list))\n"
   ]
  },
  {
   "cell_type": "code",
   "execution_count": 18,
   "metadata": {},
   "outputs": [
    {
     "name": "stdout",
     "output_type": "stream",
     "text": [
      "[2, 'Rommel', True]\n"
     ]
    }
   ],
   "source": [
    "#Agregando datos en una lista \n",
    "list = []\n",
    "\n",
    "list.append(2)\n",
    "list.append(\"Rommel\")\n",
    "list.append(True)\n",
    "print(list)"
   ]
  },
  {
   "cell_type": "code",
   "execution_count": 24,
   "metadata": {},
   "outputs": [
    {
     "name": "stdout",
     "output_type": "stream",
     "text": [
      "[1]\n",
      "[1, 2]\n",
      "[1, 2, 3]\n",
      "[1, 2, 3, 4]\n",
      "[1, 2, 3, 4, 5]\n",
      "[1, 2, 3, 4, 5, 6]\n",
      "[1, 2, 3, 4, 5, 6, 7]\n",
      "[1, 2, 3, 4, 5, 6, 7, 8]\n",
      "[1, 2, 3, 4, 5, 6, 7, 8, 9]\n",
      "[1, 2, 3, 4, 5, 6, 7, 8, 9, 10]\n"
     ]
    }
   ],
   "source": [
    "lists = []\n",
    "for i in range(1,11):\n",
    "    lists.append(i)\n",
    "    print(lists)"
   ]
  }
 ],
 "metadata": {
  "kernelspec": {
   "display_name": "Python 3",
   "language": "python",
   "name": "python3"
  },
  "language_info": {
   "codemirror_mode": {
    "name": "ipython",
    "version": 3
   },
   "file_extension": ".py",
   "mimetype": "text/x-python",
   "name": "python",
   "nbconvert_exporter": "python",
   "pygments_lexer": "ipython3",
   "version": "3.11.7"
  }
 },
 "nbformat": 4,
 "nbformat_minor": 2
}
