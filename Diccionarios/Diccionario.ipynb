{
 "cells": [
  {
   "cell_type": "code",
   "execution_count": 57,
   "metadata": {},
   "outputs": [],
   "source": [
    "#Creating the dictionary\n",
    "Date = {\n",
    "    'Name' : 'Rommel',\n",
    "    'lastname' : 'Garcia',\n",
    "    'Age' : 20,\n",
    "}"
   ]
  },
  {
   "cell_type": "code",
   "execution_count": 58,
   "metadata": {},
   "outputs": [
    {
     "data": {
      "text/plain": [
       "{'Name': 'Rommel', 'lastname': 'Garcia', 'Age': 20}"
      ]
     },
     "execution_count": 58,
     "metadata": {},
     "output_type": "execute_result"
    }
   ],
   "source": [
    "#Calling the dictionary\n",
    "Date"
   ]
  },
  {
   "cell_type": "code",
   "execution_count": 59,
   "metadata": {},
   "outputs": [],
   "source": [
    "#Adding elements to the dictionary\n",
    "Date['Rommel'] = 1234"
   ]
  },
  {
   "cell_type": "code",
   "execution_count": 60,
   "metadata": {},
   "outputs": [
    {
     "data": {
      "text/plain": [
       "{'Name': 'Rommel', 'lastname': 'Garcia', 'Age': 20, 'Rommel': 1234}"
      ]
     },
     "execution_count": 60,
     "metadata": {},
     "output_type": "execute_result"
    }
   ],
   "source": [
    "#Calling the dictionary with a elements added \n",
    "Date"
   ]
  },
  {
   "cell_type": "code",
   "execution_count": 61,
   "metadata": {},
   "outputs": [],
   "source": [
    "#Deleting a element of the dictionnary\n",
    "del Date['Name']"
   ]
  },
  {
   "cell_type": "code",
   "execution_count": 62,
   "metadata": {},
   "outputs": [
    {
     "data": {
      "text/plain": [
       "{'lastname': 'Garcia', 'Age': 20, 'Rommel': 1234}"
      ]
     },
     "execution_count": 62,
     "metadata": {},
     "output_type": "execute_result"
    }
   ],
   "source": [
    "#Calling the dictionary with a element deleted\n",
    "Date "
   ]
  },
  {
   "cell_type": "code",
   "execution_count": 64,
   "metadata": {},
   "outputs": [
    {
     "name": "stdout",
     "output_type": "stream",
     "text": [
      "Empty dictionary: \n",
      "{}\n",
      "Adding elemnets: \n",
      "{0: 'Rommel', 1: 'Jose', 2: 'Pablo'}\n"
     ]
    }
   ],
   "source": [
    "#add elements to dictionary\n",
    "\n",
    "print(\"Empty dictionary: \")\n",
    "dict1 = {}\n",
    "print(dict1)\n",
    "\n",
    "print(\"Adding elemnets: \")\n",
    "\n",
    "dict1[0] = \"Rommel\"\n",
    "dict1[1] = \"Jose\"\n",
    "dict1[2] = \"Pablo\"\n",
    "\n",
    "print(dict1)\n"
   ]
  },
  {
   "cell_type": "code",
   "execution_count": 4,
   "metadata": {},
   "outputs": [],
   "source": [
    "#we're going to update the dictionary\n",
    "dict3 = {\n",
    "    'id' : 30620341,\n",
    "    'Address' : \"Puerto la cruz\",\n",
    "    'Name' : 'Rommel',\n",
    "}"
   ]
  },
  {
   "cell_type": "code",
   "execution_count": 5,
   "metadata": {},
   "outputs": [
    {
     "data": {
      "text/plain": [
       "{'id': 30620341, 'Address': 'Puerto la cruz', 'Name': 'Rommel'}"
      ]
     },
     "execution_count": 5,
     "metadata": {},
     "output_type": "execute_result"
    }
   ],
   "source": [
    "dict3"
   ]
  },
  {
   "cell_type": "code",
   "execution_count": 6,
   "metadata": {},
   "outputs": [],
   "source": [
    "#we build a second dictionary for the updating of the first dictionary (dict3)\n",
    "dict4 = {\n",
    "    'lastname' : 'Garcia',\n",
    "    'Age' : '20',\n",
    "}"
   ]
  },
  {
   "cell_type": "code",
   "execution_count": 7,
   "metadata": {},
   "outputs": [
    {
     "data": {
      "text/plain": [
       "{'lastname': 'Garcia', 'Age': '20'}"
      ]
     },
     "execution_count": 7,
     "metadata": {},
     "output_type": "execute_result"
    }
   ],
   "source": [
    "dict4"
   ]
  },
  {
   "cell_type": "code",
   "execution_count": 8,
   "metadata": {},
   "outputs": [],
   "source": [
    "#we update the first dictionary (in this case dict3) with the dict4\n",
    "\n",
    "dict3.update(dict4)\n"
   ]
  },
  {
   "cell_type": "code",
   "execution_count": 13,
   "metadata": {},
   "outputs": [
    {
     "data": {
      "text/plain": [
       "{'id': 30620341,\n",
       " 'Address': 'Puerto la cruz',\n",
       " 'Name': 'Rommel',\n",
       " 'lastname': 'Garcia',\n",
       " 'Age': '20'}"
      ]
     },
     "execution_count": 13,
     "metadata": {},
     "output_type": "execute_result"
    }
   ],
   "source": [
    "#then we call the dictionary(dict3) updated with the elements of the second dictionary created (dict4)\n",
    "dict3"
   ]
  }
 ],
 "metadata": {
  "kernelspec": {
   "display_name": "Python 3",
   "language": "python",
   "name": "python3"
  },
  "language_info": {
   "codemirror_mode": {
    "name": "ipython",
    "version": 3
   },
   "file_extension": ".py",
   "mimetype": "text/x-python",
   "name": "python",
   "nbconvert_exporter": "python",
   "pygments_lexer": "ipython3",
   "version": "3.12.1"
  }
 },
 "nbformat": 4,
 "nbformat_minor": 2
}
